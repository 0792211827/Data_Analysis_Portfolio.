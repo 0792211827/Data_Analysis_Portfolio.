{
 "cells": [
  {
   "cell_type": "code",
   "execution_count": 1,
   "id": "197dc7c0",
   "metadata": {},
   "outputs": [],
   "source": [
    "import numpy as np "
   ]
  },
  {
   "cell_type": "code",
   "execution_count": 2,
   "id": "158ce34e",
   "metadata": {},
   "outputs": [],
   "source": [
    "import pandas as pd "
   ]
  },
  {
   "cell_type": "code",
   "execution_count": 3,
   "id": "34dd9d07",
   "metadata": {},
   "outputs": [],
   "source": [
    "import matplotlib.pyplot as plt"
   ]
  },
  {
   "cell_type": "code",
   "execution_count": 4,
   "id": "990df5c4",
   "metadata": {},
   "outputs": [],
   "source": [
    "import plotly.express as px"
   ]
  },
  {
   "cell_type": "code",
   "execution_count": 5,
   "id": "419f6cd1",
   "metadata": {},
   "outputs": [],
   "source": [
    "import plotly.io as pio"
   ]
  },
  {
   "cell_type": "code",
   "execution_count": 6,
   "id": "56452f19",
   "metadata": {},
   "outputs": [],
   "source": [
    "from plotly.offline import init_notebook_mode"
   ]
  },
  {
   "cell_type": "code",
   "execution_count": 7,
   "id": "baa67c0b",
   "metadata": {},
   "outputs": [],
   "source": [
    "data = pd.read_csv('Electric_Vehicle_Population_Data.csv')"
   ]
  },
  {
   "cell_type": "code",
   "execution_count": 8,
   "id": "0e0a0e90",
   "metadata": {
    "scrolled": true
   },
   "outputs": [
    {
     "data": {
      "text/html": [
       "<div>\n",
       "<style scoped>\n",
       "    .dataframe tbody tr th:only-of-type {\n",
       "        vertical-align: middle;\n",
       "    }\n",
       "\n",
       "    .dataframe tbody tr th {\n",
       "        vertical-align: top;\n",
       "    }\n",
       "\n",
       "    .dataframe thead th {\n",
       "        text-align: right;\n",
       "    }\n",
       "</style>\n",
       "<table border=\"1\" class=\"dataframe\">\n",
       "  <thead>\n",
       "    <tr style=\"text-align: right;\">\n",
       "      <th></th>\n",
       "      <th>VIN (1-10)</th>\n",
       "      <th>County</th>\n",
       "      <th>City</th>\n",
       "      <th>State</th>\n",
       "      <th>Postal Code</th>\n",
       "      <th>Model Year</th>\n",
       "      <th>Make</th>\n",
       "      <th>Model</th>\n",
       "      <th>Electric Vehicle Type</th>\n",
       "      <th>Clean Alternative Fuel Vehicle (CAFV) Eligibility</th>\n",
       "      <th>Electric Range</th>\n",
       "      <th>Base MSRP</th>\n",
       "      <th>Legislative District</th>\n",
       "      <th>DOL Vehicle ID</th>\n",
       "      <th>Vehicle Location</th>\n",
       "      <th>Electric Utility</th>\n",
       "      <th>2020 Census Tract</th>\n",
       "    </tr>\n",
       "  </thead>\n",
       "  <tbody>\n",
       "    <tr>\n",
       "      <th>0</th>\n",
       "      <td>5YJYGDEE1L</td>\n",
       "      <td>King</td>\n",
       "      <td>Seattle</td>\n",
       "      <td>WA</td>\n",
       "      <td>98122.0</td>\n",
       "      <td>2020</td>\n",
       "      <td>TESLA</td>\n",
       "      <td>MODEL Y</td>\n",
       "      <td>Battery Electric Vehicle (BEV)</td>\n",
       "      <td>Clean Alternative Fuel Vehicle Eligible</td>\n",
       "      <td>291</td>\n",
       "      <td>0</td>\n",
       "      <td>37.0</td>\n",
       "      <td>125701579</td>\n",
       "      <td>POINT (-122.30839 47.610365)</td>\n",
       "      <td>CITY OF SEATTLE - (WA)|CITY OF TACOMA - (WA)</td>\n",
       "      <td>5.303301e+10</td>\n",
       "    </tr>\n",
       "    <tr>\n",
       "      <th>1</th>\n",
       "      <td>7SAYGDEE9P</td>\n",
       "      <td>Snohomish</td>\n",
       "      <td>Bothell</td>\n",
       "      <td>WA</td>\n",
       "      <td>98021.0</td>\n",
       "      <td>2023</td>\n",
       "      <td>TESLA</td>\n",
       "      <td>MODEL Y</td>\n",
       "      <td>Battery Electric Vehicle (BEV)</td>\n",
       "      <td>Eligibility unknown as battery range has not b...</td>\n",
       "      <td>0</td>\n",
       "      <td>0</td>\n",
       "      <td>1.0</td>\n",
       "      <td>244285107</td>\n",
       "      <td>POINT (-122.179458 47.802589)</td>\n",
       "      <td>PUGET SOUND ENERGY INC</td>\n",
       "      <td>5.306105e+10</td>\n",
       "    </tr>\n",
       "    <tr>\n",
       "      <th>2</th>\n",
       "      <td>5YJSA1E4XK</td>\n",
       "      <td>King</td>\n",
       "      <td>Seattle</td>\n",
       "      <td>WA</td>\n",
       "      <td>98109.0</td>\n",
       "      <td>2019</td>\n",
       "      <td>TESLA</td>\n",
       "      <td>MODEL S</td>\n",
       "      <td>Battery Electric Vehicle (BEV)</td>\n",
       "      <td>Clean Alternative Fuel Vehicle Eligible</td>\n",
       "      <td>270</td>\n",
       "      <td>0</td>\n",
       "      <td>36.0</td>\n",
       "      <td>156773144</td>\n",
       "      <td>POINT (-122.34848 47.632405)</td>\n",
       "      <td>CITY OF SEATTLE - (WA)|CITY OF TACOMA - (WA)</td>\n",
       "      <td>5.303301e+10</td>\n",
       "    </tr>\n",
       "    <tr>\n",
       "      <th>3</th>\n",
       "      <td>5YJSA1E27G</td>\n",
       "      <td>King</td>\n",
       "      <td>Issaquah</td>\n",
       "      <td>WA</td>\n",
       "      <td>98027.0</td>\n",
       "      <td>2016</td>\n",
       "      <td>TESLA</td>\n",
       "      <td>MODEL S</td>\n",
       "      <td>Battery Electric Vehicle (BEV)</td>\n",
       "      <td>Clean Alternative Fuel Vehicle Eligible</td>\n",
       "      <td>210</td>\n",
       "      <td>0</td>\n",
       "      <td>5.0</td>\n",
       "      <td>165103011</td>\n",
       "      <td>POINT (-122.03646 47.534065)</td>\n",
       "      <td>PUGET SOUND ENERGY INC||CITY OF TACOMA - (WA)</td>\n",
       "      <td>5.303303e+10</td>\n",
       "    </tr>\n",
       "    <tr>\n",
       "      <th>4</th>\n",
       "      <td>5YJYGDEE5M</td>\n",
       "      <td>Kitsap</td>\n",
       "      <td>Suquamish</td>\n",
       "      <td>WA</td>\n",
       "      <td>98392.0</td>\n",
       "      <td>2021</td>\n",
       "      <td>TESLA</td>\n",
       "      <td>MODEL Y</td>\n",
       "      <td>Battery Electric Vehicle (BEV)</td>\n",
       "      <td>Eligibility unknown as battery range has not b...</td>\n",
       "      <td>0</td>\n",
       "      <td>0</td>\n",
       "      <td>23.0</td>\n",
       "      <td>205138552</td>\n",
       "      <td>POINT (-122.55717 47.733415)</td>\n",
       "      <td>PUGET SOUND ENERGY INC</td>\n",
       "      <td>5.303594e+10</td>\n",
       "    </tr>\n",
       "  </tbody>\n",
       "</table>\n",
       "</div>"
      ],
      "text/plain": [
       "   VIN (1-10)     County       City State  Postal Code  Model Year   Make  \\\n",
       "0  5YJYGDEE1L       King    Seattle    WA      98122.0        2020  TESLA   \n",
       "1  7SAYGDEE9P  Snohomish    Bothell    WA      98021.0        2023  TESLA   \n",
       "2  5YJSA1E4XK       King    Seattle    WA      98109.0        2019  TESLA   \n",
       "3  5YJSA1E27G       King   Issaquah    WA      98027.0        2016  TESLA   \n",
       "4  5YJYGDEE5M     Kitsap  Suquamish    WA      98392.0        2021  TESLA   \n",
       "\n",
       "     Model           Electric Vehicle Type  \\\n",
       "0  MODEL Y  Battery Electric Vehicle (BEV)   \n",
       "1  MODEL Y  Battery Electric Vehicle (BEV)   \n",
       "2  MODEL S  Battery Electric Vehicle (BEV)   \n",
       "3  MODEL S  Battery Electric Vehicle (BEV)   \n",
       "4  MODEL Y  Battery Electric Vehicle (BEV)   \n",
       "\n",
       "   Clean Alternative Fuel Vehicle (CAFV) Eligibility  Electric Range  \\\n",
       "0            Clean Alternative Fuel Vehicle Eligible             291   \n",
       "1  Eligibility unknown as battery range has not b...               0   \n",
       "2            Clean Alternative Fuel Vehicle Eligible             270   \n",
       "3            Clean Alternative Fuel Vehicle Eligible             210   \n",
       "4  Eligibility unknown as battery range has not b...               0   \n",
       "\n",
       "   Base MSRP  Legislative District  DOL Vehicle ID  \\\n",
       "0          0                  37.0       125701579   \n",
       "1          0                   1.0       244285107   \n",
       "2          0                  36.0       156773144   \n",
       "3          0                   5.0       165103011   \n",
       "4          0                  23.0       205138552   \n",
       "\n",
       "                Vehicle Location  \\\n",
       "0   POINT (-122.30839 47.610365)   \n",
       "1  POINT (-122.179458 47.802589)   \n",
       "2   POINT (-122.34848 47.632405)   \n",
       "3   POINT (-122.03646 47.534065)   \n",
       "4   POINT (-122.55717 47.733415)   \n",
       "\n",
       "                                Electric Utility  2020 Census Tract  \n",
       "0   CITY OF SEATTLE - (WA)|CITY OF TACOMA - (WA)       5.303301e+10  \n",
       "1                         PUGET SOUND ENERGY INC       5.306105e+10  \n",
       "2   CITY OF SEATTLE - (WA)|CITY OF TACOMA - (WA)       5.303301e+10  \n",
       "3  PUGET SOUND ENERGY INC||CITY OF TACOMA - (WA)       5.303303e+10  \n",
       "4                         PUGET SOUND ENERGY INC       5.303594e+10  "
      ]
     },
     "execution_count": 8,
     "metadata": {},
     "output_type": "execute_result"
    }
   ],
   "source": [
    "data.head()"
   ]
  },
  {
   "cell_type": "code",
   "execution_count": 9,
   "id": "569925f4",
   "metadata": {
    "scrolled": true
   },
   "outputs": [
    {
     "name": "stdout",
     "output_type": "stream",
     "text": [
      "<class 'pandas.core.frame.DataFrame'>\n",
      "RangeIndex: 177866 entries, 0 to 177865\n",
      "Data columns (total 17 columns):\n",
      " #   Column                                             Non-Null Count   Dtype  \n",
      "---  ------                                             --------------   -----  \n",
      " 0   VIN (1-10)                                         177866 non-null  object \n",
      " 1   County                                             177861 non-null  object \n",
      " 2   City                                               177861 non-null  object \n",
      " 3   State                                              177866 non-null  object \n",
      " 4   Postal Code                                        177861 non-null  float64\n",
      " 5   Model Year                                         177866 non-null  int64  \n",
      " 6   Make                                               177866 non-null  object \n",
      " 7   Model                                              177866 non-null  object \n",
      " 8   Electric Vehicle Type                              177866 non-null  object \n",
      " 9   Clean Alternative Fuel Vehicle (CAFV) Eligibility  177866 non-null  object \n",
      " 10  Electric Range                                     177866 non-null  int64  \n",
      " 11  Base MSRP                                          177866 non-null  int64  \n",
      " 12  Legislative District                               177477 non-null  float64\n",
      " 13  DOL Vehicle ID                                     177866 non-null  int64  \n",
      " 14  Vehicle Location                                   177857 non-null  object \n",
      " 15  Electric Utility                                   177861 non-null  object \n",
      " 16  2020 Census Tract                                  177861 non-null  float64\n",
      "dtypes: float64(3), int64(4), object(10)\n",
      "memory usage: 23.1+ MB\n"
     ]
    }
   ],
   "source": [
    "data.info()"
   ]
  },
  {
   "cell_type": "code",
   "execution_count": 10,
   "id": "bdc5085d",
   "metadata": {
    "scrolled": false
   },
   "outputs": [
    {
     "data": {
      "text/plain": [
       "VIN (1-10)                                             0\n",
       "County                                                 5\n",
       "City                                                   5\n",
       "State                                                  0\n",
       "Postal Code                                            5\n",
       "Model Year                                             0\n",
       "Make                                                   0\n",
       "Model                                                  0\n",
       "Electric Vehicle Type                                  0\n",
       "Clean Alternative Fuel Vehicle (CAFV) Eligibility      0\n",
       "Electric Range                                         0\n",
       "Base MSRP                                              0\n",
       "Legislative District                                 389\n",
       "DOL Vehicle ID                                         0\n",
       "Vehicle Location                                       9\n",
       "Electric Utility                                       5\n",
       "2020 Census Tract                                      5\n",
       "dtype: int64"
      ]
     },
     "execution_count": 10,
     "metadata": {},
     "output_type": "execute_result"
    }
   ],
   "source": [
    "data.isnull().sum()"
   ]
  },
  {
   "cell_type": "code",
   "execution_count": 11,
   "id": "95e71ccf",
   "metadata": {},
   "outputs": [],
   "source": [
    "data = data.dropna()"
   ]
  },
  {
   "cell_type": "markdown",
   "id": "5eb9fe85",
   "metadata": {},
   "source": [
    " FROM THE DATA WE CAN MAINLY EXPLORE THE FOLLOWING AREAS:\n",
    "\n",
    "1.EV Adoption Over Time: Analyze the growth of the EV population by model year.                            \n",
    "2.EV Types: Breakdown of the dataset by electric vehicle type (BEV, etc.).       \n",
    "3.Make and Model Popularity: Identify the most popular makes and models among the registered EVs.                        \n",
    "4.Electric Range Analysis: Analyze the electric range of vehicles to see how EV technology is progressing.                    \n",
    "5.Estimated Growth in Market Size: Analyze and find the estimated growth in the market size of electric vehicles.\n"
   ]
  },
  {
   "cell_type": "markdown",
   "id": "555f7114",
   "metadata": {},
   "source": [
    "# Analysis according to EV adoptation over time "
   ]
  },
  {
   "cell_type": "code",
   "execution_count": 12,
   "id": "b9d32b42",
   "metadata": {
    "scrolled": true
   },
   "outputs": [
    {
     "data": {
      "text/html": [
       "<iframe\n",
       "    scrolling=\"no\"\n",
       "    width=\"100%\"\n",
       "    height=\"545px\"\n",
       "    src=\"iframe_figures/figure_12.html\"\n",
       "    frameborder=\"0\"\n",
       "    allowfullscreen\n",
       "></iframe>\n"
      ]
     },
     "metadata": {},
     "output_type": "display_data"
    }
   ],
   "source": [
    "data1 = data['Model Year'].value_counts().reset_index()\n",
    "fig1 = px.bar(data1, x = 'index' , y = 'Model Year',\n",
    "             template = 'plotly_dark', color = 'Model Year', \n",
    "             opacity = 0.7, title = 'EV Adoption Over Time')\n",
    "fig1.update_layout(\n",
    "           xaxis_title = 'Model Year',\n",
    "           yaxis_title = 'Number of Vehicles Registered')\n",
    "pio.renderers.default = 'iframe'\n",
    "fig1.show()"
   ]
  },
  {
   "cell_type": "markdown",
   "id": "8868ca72",
   "metadata": {},
   "source": [
    "The number of vehicles registered grows modestly up until that point and then begins to rise more rapidly from 2017 onwards. The year 2023 shows a particularly sharp increase in the number of registered EVs, with the bar for 2023 being the highest on the graph, indicating a peak in EV adoption."
   ]
  },
  {
   "cell_type": "code",
   "execution_count": 13,
   "id": "f6ae0972",
   "metadata": {
    "scrolled": true
   },
   "outputs": [
    {
     "data": {
      "text/html": [
       "<iframe\n",
       "    scrolling=\"no\"\n",
       "    width=\"100%\"\n",
       "    height=\"545px\"\n",
       "    src=\"iframe_figures/figure_13.html\"\n",
       "    frameborder=\"0\"\n",
       "    allowfullscreen\n",
       "></iframe>\n"
      ]
     },
     "metadata": {},
     "output_type": "display_data"
    }
   ],
   "source": [
    "ev_county_distribution = data['County'].value_counts()\n",
    "top_counties = ev_county_distribution.head(3).index\n",
    "top_counties_data = data[data['County'].isin(top_counties)]\n",
    "ev_city_distribution_top_counties = top_counties_data.groupby(['County', 'City']).size().sort_values(ascending=False).reset_index(name='Number of Vehicles')\n",
    "top_cities = ev_city_distribution_top_counties.head(10)\n",
    "fig = px.bar(top_cities, x = 'City', y = 'Number of Vehicles', color = 'County',\n",
    "            template = 'plotly_dark',title = 'Top Cities in Top Counties by EV Registrations')\n",
    "pio.renderers.default = 'iframe'\n",
    "fig.show()\n"
   ]
  },
  {
   "cell_type": "markdown",
   "id": "bf8c5fc5",
   "metadata": {},
   "source": [
    "The above graph compares the number of electric vehicles registered in various cities within three counties: King, Snohomish, and Pierce. The horizontal bars represent cities, and their length corresponds to the number of vehicles registered, colour-coded by county. Here are the key findings from the above graph:\n",
    "\n",
    "1.Seattle, which is in King County, has the highest number of EV registrations by a significant margin, far outpacing the other cities listed.                                                      \n",
    "2.Bellevue and Redmond, also in King County, follow Seattle with the next highest registrations, though these are considerably less than Seattle’s.                                                    \n",
    "3.Cities in Snohomish County, such as Kirkland and Sammamish, show moderate EV registrations.                                \n",
    "4.Tacoma and Tukwila, representing Pierce County, have the fewest EV registrations among the cities listed, with Tacoma slightly ahead of Tukwila.                                                     \n",
    "5.The majority of cities shown are from King County, which seems to dominate EV registrations among the three counties.                     \n",
    "6.Overall, the graph indicates that EV adoption is not uniform across the cities and is more concentrated in certain areas, particularly in King County.  "
   ]
  },
  {
   "cell_type": "markdown",
   "id": "6b78b6c4",
   "metadata": {},
   "source": [
    "# Analysis according to the  distribution of electric vehicle Types"
   ]
  },
  {
   "cell_type": "code",
   "execution_count": 14,
   "id": "97fdb436",
   "metadata": {
    "scrolled": true
   },
   "outputs": [
    {
     "data": {
      "text/html": [
       "<iframe\n",
       "    scrolling=\"no\"\n",
       "    width=\"100%\"\n",
       "    height=\"545px\"\n",
       "    src=\"iframe_figures/figure_14.html\"\n",
       "    frameborder=\"0\"\n",
       "    allowfullscreen\n",
       "></iframe>\n"
      ]
     },
     "metadata": {},
     "output_type": "display_data"
    }
   ],
   "source": [
    "datatype = data['Electric Vehicle Type'].value_counts().reset_index()\n",
    "fig = px.pie(datatype, names = 'index', values = 'Electric Vehicle Type',\n",
    "            template = 'plotly_dark', title = 'Distribution of Electric Vehicle Types')\n",
    "pio.renderers.default = 'iframe'\n",
    "fig.show()"
   ]
  },
  {
   "cell_type": "markdown",
   "id": "80170061",
   "metadata": {},
   "source": [
    "The above graph shows that BEVs are more popular or preferred over PHEVs among the electric vehicles registered in the United States.\n",
    "\n"
   ]
  },
  {
   "cell_type": "markdown",
   "id": "5c3f317f",
   "metadata": {},
   "source": [
    "# Popularity of EV manufacturers"
   ]
  },
  {
   "cell_type": "code",
   "execution_count": 15,
   "id": "84531804",
   "metadata": {
    "scrolled": true
   },
   "outputs": [
    {
     "data": {
      "text/html": [
       "<iframe\n",
       "    scrolling=\"no\"\n",
       "    width=\"100%\"\n",
       "    height=\"545px\"\n",
       "    src=\"iframe_figures/figure_15.html\"\n",
       "    frameborder=\"0\"\n",
       "    allowfullscreen\n",
       "></iframe>\n"
      ]
     },
     "metadata": {},
     "output_type": "display_data"
    }
   ],
   "source": [
    "datamake = data['Make'].value_counts().head(10).reset_index()\n",
    "fig = px.bar(datamake, x = 'Make', y = 'index',color = 'Make', template = 'plotly_dark',\n",
    "            opacity = 0.8, title = 'Top 10 Popular EV Makes',orientation='h')\n",
    "fig.update_layout(\n",
    "           xaxis_title = 'Number of Vehicles Registered',\n",
    "           yaxis_title = 'Make')\n",
    "\n",
    "pio.renderers.default = 'iframe'\n",
    "fig.show()"
   ]
  },
  {
   "cell_type": "markdown",
   "id": "ec1badf6",
   "metadata": {},
   "source": [
    "The above chart shows that:\n",
    "\n",
    "1.TESLA leads by a substantial margin with the highest number of vehicles registered.\n",
    "2.NISSAN is the second most popular manufacturer, followed by CHEVROLET, though both have significantly fewer registrations than TESLA.                                            \n",
    "3.FORD, BMW, KIA, TOYOTA, VOLKSWAGEN, JEEP, and HYUNDAI follow in decreasing order of the number of registered vehicles.\n"
   ]
  },
  {
   "cell_type": "code",
   "execution_count": 16,
   "id": "a718dcc1",
   "metadata": {
    "scrolled": true
   },
   "outputs": [
    {
     "data": {
      "text/html": [
       "<iframe\n",
       "    scrolling=\"no\"\n",
       "    width=\"100%\"\n",
       "    height=\"545px\"\n",
       "    src=\"iframe_figures/figure_16.html\"\n",
       "    frameborder=\"0\"\n",
       "    allowfullscreen\n",
       "></iframe>\n"
      ]
     },
     "metadata": {},
     "output_type": "display_data"
    }
   ],
   "source": [
    "datamake2 = data['Make'].value_counts().head(10)\n",
    "top_3_makes = datamake2.head(3).index\n",
    "top_makes_data = data[data['Make'].isin(top_3_makes)]\n",
    "ev_model_distribution_top_makes = top_makes_data.groupby(['Make', 'Model']).size().sort_values(ascending=False).reset_index(name='Number of Vehicles')\n",
    "top_models = ev_model_distribution_top_makes.head(10)\n",
    "fig = px.bar(top_models, x = 'Model', y = 'Number of Vehicles',\n",
    "            color = 'Make', template = 'plotly_dark',opacity = 0.8,\n",
    "            title = 'Top Models in Top 3 Makes by EV Registrations')\n",
    "pio.renderers.default = 'iframe'\n",
    "fig.show()"
   ]
  },
  {
   "cell_type": "markdown",
   "id": "4e4ee588",
   "metadata": {},
   "source": [
    "The above graph shows the distribution of electric vehicle registrations among different models from the top three manufacturers: TESLA, NISSAN, and CHEVROLET. Here are the findings:\n",
    "\n",
    "1.TESLA’s MODEL Y and MODEL 3 are the most registered vehicles, with MODEL Y having the highest number of registrations.                   \n",
    "2.NISSAN’s LEAF is the third most registered model and the most registered non-TESLA vehicle.                                 \n",
    "3.TESLA’s MODEL S and MODEL X also have a significant number of registrations.                                                \n",
    "4.CHEVROLET’s BOLT EV and VOLT are the next in the ranking with considerable registrations, followed by BOLT EUV.                  \n",
    "5.NISSAN’s ARIYA and CHEVROLET’s SPARK have the least number of registrations among the models shown.                          "
   ]
  },
  {
   "cell_type": "markdown",
   "id": "428ea35d",
   "metadata": {},
   "source": [
    "# Analysis according to the distribution of electric range "
   ]
  },
  {
   "cell_type": "code",
   "execution_count": 17,
   "id": "b3f90fab",
   "metadata": {
    "scrolled": true
   },
   "outputs": [
    {
     "data": {
      "text/html": [
       "<iframe\n",
       "    scrolling=\"no\"\n",
       "    width=\"100%\"\n",
       "    height=\"545px\"\n",
       "    src=\"iframe_figures/figure_17.html\"\n",
       "    frameborder=\"0\"\n",
       "    allowfullscreen\n",
       "></iframe>\n"
      ]
     },
     "metadata": {},
     "output_type": "display_data"
    }
   ],
   "source": [
    "fig = px.histogram(data, x = 'Electric Range', nbins=30,\n",
    "                  template = 'plotly_dark',opacity = 0.8,\n",
    "                  title = 'Distribution of Electric Vehicle Ranges')\n",
    "fig.update_layout(\n",
    "           xaxis_title = 'Electric Range (miles)',\n",
    "           yaxis_title = 'Number of Vehicles')\n",
    "fig.add_vline(x=data['Electric Range'].mean(), line_width=3, line_dash=\"dash\", line_color=\"red\")\n",
    "pio.renderers.default = 'iframe'\n",
    "fig.show()"
   ]
  },
  {
   "cell_type": "markdown",
   "id": "3f10828d",
   "metadata": {},
   "source": [
    "The above graph shows the mean electric range. Key observations from the graph include:\n",
    "\n",
    "1.There is a high frequency of vehicles with a low electric range, with a significant peak occurring just before 50 miles.                    \n",
    "2.The distribution is skewed to the right, with a long tail extending towards higher ranges, although the number of vehicles with higher ranges is much less frequent.                                    \n",
    "3.The mean electric range for this set of vehicles is marked at approximately 58.84 miles, which is relatively low compared to the highest ranges shown in the graph.                                 \n",
    "4.Despite the presence of electric vehicles with ranges that extend up to around 350 miles, the majority of the vehicles have a range below the mean.                                                    "
   ]
  },
  {
   "cell_type": "code",
   "execution_count": 18,
   "id": "e97e0307",
   "metadata": {},
   "outputs": [
    {
     "data": {
      "text/html": [
       "<iframe\n",
       "    scrolling=\"no\"\n",
       "    width=\"100%\"\n",
       "    height=\"545px\"\n",
       "    src=\"iframe_figures/figure_18.html\"\n",
       "    frameborder=\"0\"\n",
       "    allowfullscreen\n",
       "></iframe>\n"
      ]
     },
     "metadata": {},
     "output_type": "display_data"
    }
   ],
   "source": [
    "average_range_by_year = data.groupby('Model Year')['Electric Range'].mean().reset_index()\n",
    "fig = px.line(average_range_by_year,x='Model Year', y='Electric Range',\n",
    "             template = 'plotly_dark',title = 'Average Electric Range by Model Year',markers=True)\n",
    "fig.update_layout(\n",
    "           xaxis_title = 'Model Year',\n",
    "           yaxis_title = 'Average Electric Range (miles)')\n",
    "\n",
    "pio.renderers.default = 'iframe'\n",
    "fig.show()\n"
   ]
  },
  {
   "cell_type": "markdown",
   "id": "15211f53",
   "metadata": {},
   "source": [
    "The above graph shows the progression of the average electric range of vehicles from around the year 2000 to 2024. Key findings from the graph:\n",
    "\n",
    "1.There is a general upward trend in the average electric range of EVs over the years, indicating improvements in technology and battery efficiency.                                          \n",
    "2.There is a noticeable peak around the year 2020 when the average range reaches its highest point.                             \n",
    "3.Following 2020, there’s a significant drop in the average range, which could indicate that data for the following years might be incomplete or reflect the introduction of several lower-range models.   \n",
    "4.After the sharp decline, there is a slight recovery in the average range in the most recent year shown on the graph."
   ]
  },
  {
   "cell_type": "markdown",
   "id": "2497d12f",
   "metadata": {},
   "source": [
    "# Estimated Market Size Analysis of Electric Vehicles in the United States"
   ]
  },
  {
   "cell_type": "code",
   "execution_count": 19,
   "id": "12a8d00f",
   "metadata": {},
   "outputs": [
    {
     "data": {
      "text/plain": [
       "1997        1\n",
       "1998        1\n",
       "1999        5\n",
       "2000        7\n",
       "2002        2\n",
       "2003        1\n",
       "2008       19\n",
       "2010       23\n",
       "2011      775\n",
       "2012     1614\n",
       "2013     4399\n",
       "2014     3496\n",
       "2015     4826\n",
       "2016     5469\n",
       "2017     8534\n",
       "2018    14286\n",
       "2019    10913\n",
       "2020    11740\n",
       "2021    19063\n",
       "2022    27708\n",
       "2023    57519\n",
       "2024     7072\n",
       "Name: Model Year, dtype: int64"
      ]
     },
     "execution_count": 19,
     "metadata": {},
     "output_type": "execute_result"
    }
   ],
   "source": [
    "ev_registration_counts = data['Model Year'].value_counts().sort_index()\n",
    "ev_registration_counts"
   ]
  },
  {
   "cell_type": "markdown",
   "id": "d1efb6ab",
   "metadata": {},
   "source": [
    "The dataset provides the number of electric vehicles registered each year from 1997 through 2024. However, the data for 2024 is incomplete as it only contains the data till March. Here’s a summary of EV registrations for recent years:\n",
    "\n",
    "1.In 2021, there were 19,063 EVs registered.                   \n",
    "2.In 2022, the number increased to 27708 EVs.                       \n",
    "3.In 2023, a significant jump to 57,519 EVs was observed.             \n",
    "4.For 2024, currently, 7,072 EVs are registered, which suggests partial data."
   ]
  },
  {
   "cell_type": "markdown",
   "id": "81065fda",
   "metadata": {},
   "source": [
    "We’ll calculate the Compound Annual Growth Rate (CAGR) between a recent year with complete data (2023) and an earlier year to project the 2024 figures. Additionally, using this growth rate, we can estimate the market size for the next five years. Let’s proceed with these calculations:"
   ]
  },
  {
   "cell_type": "code",
   "execution_count": 20,
   "id": "39d3396a",
   "metadata": {},
   "outputs": [],
   "source": [
    "from scipy.optimize import curve_fit"
   ]
  },
  {
   "cell_type": "code",
   "execution_count": 21,
   "id": "209c1e3e",
   "metadata": {},
   "outputs": [],
   "source": [
    "# filter the dataset to include years with complete data, assuming 2023 is the last complete year\n",
    "filtered_years = ev_registration_counts[ev_registration_counts.index <= 2023]\n"
   ]
  },
  {
   "cell_type": "code",
   "execution_count": 22,
   "id": "78d56e58",
   "metadata": {},
   "outputs": [],
   "source": [
    "# define a function for exponential growth to fit the data\n",
    "def exp_growth(x, a, b):\n",
    "    return a * np.exp(b * x)\n"
   ]
  },
  {
   "cell_type": "code",
   "execution_count": 23,
   "id": "a3e4bb55",
   "metadata": {},
   "outputs": [],
   "source": [
    "# prepare the data for curve fitting\n",
    "x_data = filtered_years.index - filtered_years.index.min()\n",
    "y_data = filtered_years.values\n"
   ]
  },
  {
   "cell_type": "code",
   "execution_count": 24,
   "id": "cbeb35bc",
   "metadata": {},
   "outputs": [],
   "source": [
    "# fit the data to the exponential growth function\n",
    "params, covariance = curve_fit(exp_growth, x_data, y_data)\n"
   ]
  },
  {
   "cell_type": "code",
   "execution_count": 25,
   "id": "d2392c96",
   "metadata": {},
   "outputs": [],
   "source": [
    "# use the fitted function to forecast the number of EVs for 2024 and the next five years\n",
    "forecast_years = np.arange(2024, 2024 + 6) - filtered_years.index.min()\n",
    "forecasted_values = exp_growth(forecast_years, *params)\n"
   ]
  },
  {
   "cell_type": "code",
   "execution_count": 26,
   "id": "44863cec",
   "metadata": {},
   "outputs": [
    {
     "data": {
      "text/plain": [
       "{2024: 79079.20682850912,\n",
       " 2025: 119653.95975054416,\n",
       " 2026: 181047.2140297609,\n",
       " 2027: 273940.735235793,\n",
       " 2028: 414496.9963978071,\n",
       " 2029: 627171.2743813773}"
      ]
     },
     "execution_count": 26,
     "metadata": {},
     "output_type": "execute_result"
    }
   ],
   "source": [
    "# create a dictionary to display the forecasted values for easier interpretation\n",
    "forecasted_evs = dict(zip(forecast_years + filtered_years.index.min(), forecasted_values))\n",
    "forecasted_evs"
   ]
  },
  {
   "cell_type": "markdown",
   "id": "0d455c65",
   "metadata": {},
   "source": [
    "Now, let’s plot the estimated market size data:\n",
    "\n",
    "\n"
   ]
  },
  {
   "cell_type": "code",
   "execution_count": 27,
   "id": "b2dbffb7",
   "metadata": {},
   "outputs": [],
   "source": [
    "# prepare data for plotting\n",
    "years = np.arange(filtered_years.index.min(), 2029 + 1)\n",
    "actual_years = filtered_years.index\n",
    "forecast_years_full = np.arange(2024, 2029 + 1)\n"
   ]
  },
  {
   "cell_type": "code",
   "execution_count": 28,
   "id": "8112ccfb",
   "metadata": {},
   "outputs": [],
   "source": [
    "# actual and forecasted values\n",
    "actual_values = filtered_years.values\n",
    "forecasted_values_full = [forecasted_evs[year] for year in forecast_years_full]\n"
   ]
  },
  {
   "cell_type": "code",
   "execution_count": 29,
   "id": "1f3b23b4",
   "metadata": {},
   "outputs": [],
   "source": [
    "import matplotlib.pyplot as plt\n",
    "import seaborn as sns\n",
    "sns.set_style(\"darkgrid\")\n",
    "\n"
   ]
  },
  {
   "cell_type": "code",
   "execution_count": 30,
   "id": "81accce8",
   "metadata": {},
   "outputs": [
    {
     "data": {
      "image/png": "[encoded data removed]",
      "text/plain": [
       "<Figure size 1200x800 with 1 Axes>"
      ]
     },
     "metadata": {},
     "output_type": "display_data"
    }
   ],
   "source": [
    "plt.figure(figsize=(12, 8))\n",
    "plt.plot(actual_years, actual_values, 'bo-', label='Actual Registrations')\n",
    "plt.plot(forecast_years_full, forecasted_values_full, 'ro--', label='Forecasted Registrations')\n",
    "plt.title('Current & Estimated EV Market')\n",
    "plt.xlabel('Year')\n",
    "plt.ylabel('Number of EV Registrations')\n",
    "plt.legend()\n",
    "plt.grid(True)\n",
    "\n",
    "plt.show()"
   ]
  },
  {
   "cell_type": "markdown",
   "id": "3f2359ea",
   "metadata": {},
   "source": [
    "From the above graph, we can see:\n",
    "\n",
    "1.The number of actual EV registrations remained relatively low and stable until around 2010, after which there was a consistent and steep upward trend, suggesting a significant increase in EV adoption.       \n",
    "2.The forecasted EV registrations predict an even more dramatic increase in the near future, with the number of registrations expected to rise sharply in the coming years.\n"
   ]
  },
  {
   "cell_type": "markdown",
   "id": "cace0685",
   "metadata": {},
   "source": [
    "Given the growing trend in actual EV registrations and the projected acceleration as per the forecast data, we can conclude that the EV market size is expected to expand considerably. The steep increase in forecasted registrations suggests that consumer adoption of EVs is on the rise, and this trend is likely to continue. Overall, the data point towards a promising future for the EV industry, indicating a significant shift in consumer preferences and a potential increase in related investment and business opportunities.\n",
    "\n"
   ]
  },
  {
   "cell_type": "code",
   "execution_count": null,
   "id": "da3fd84c",
   "metadata": {},
   "outputs": [],
   "source": []
  }
 ],
 "metadata": {
  "kernelspec": {
   "display_name": "Python 3 (ipykernel)",
   "language": "python",
   "name": "python3"
  },
  "language_info": {
   "codemirror_mode": {
    "name": "ipython",
    "version": 3
   },
   "file_extension": ".py",
   "mimetype": "text/x-python",
   "name": "python",
   "nbconvert_exporter": "python",
   "pygments_lexer": "ipython3",
   "version": "3.9.13"
  }
 },
 "nbformat": 4,
 "nbformat_minor": 5
}
